{
 "cells": [
  {
   "cell_type": "markdown",
   "metadata": {},
   "source": [
    "# Data Cleaning"
   ]
  },
  {
   "cell_type": "markdown",
   "metadata": {},
   "source": [
    "## Introduction"
   ]
  },
  {
   "cell_type": "markdown",
   "metadata": {},
   "source": [
    "This notebook goes through a necessary step of any data science project - data cleaning.\n",
    "\n",
    "Specifically, we'll be walking through:\n",
    "\n",
    "1. **Getting the data - **in this case, we'll use data from Kaggle\n",
    "2. **Cleaning the data - **we will walk through popular text pre-processing techniques\n",
    "3. **Organizing the data - **we will organize the cleaned data into a way that is easy to input into other algorithms\n",
    "\n",
    "The output of this notebook will be clean, organized data in standard text format: **Corpus** (a collection of text)."
   ]
  },
  {
   "cell_type": "markdown",
   "metadata": {},
   "source": [
    "## Problem Statement"
   ]
  },
  {
   "cell_type": "markdown",
   "metadata": {},
   "source": [
    "Our goal is to look at famous Anime Quotes and note their similarities and differences. Specifically, I'd like to know if their popularity beacuse of seeking a fixed truth or because of seeking a personal opinion. Why are ‘Itachi’, ‘Loffi’ and ‘Eren’ among the most lovely characters of all time? Is Levi's attractiveness due to his words or his actions?"
   ]
  },
  {
   "cell_type": "markdown",
   "metadata": {},
   "source": [
    "## Getting The Data"
   ]
  },
  {
   "cell_type": "markdown",
   "metadata": {},
   "source": [
    "We will use 'Anime Quotes' dataset downloaded from Kaggle."
   ]
  },
  {
   "cell_type": "code",
   "execution_count": 1,
   "metadata": {},
   "outputs": [
    {
     "data": {
      "text/html": [
       "<div>\n",
       "<style scoped>\n",
       "    .dataframe tbody tr th:only-of-type {\n",
       "        vertical-align: middle;\n",
       "    }\n",
       "\n",
       "    .dataframe tbody tr th {\n",
       "        vertical-align: top;\n",
       "    }\n",
       "\n",
       "    .dataframe thead th {\n",
       "        text-align: right;\n",
       "    }\n",
       "</style>\n",
       "<table border=\"1\" class=\"dataframe\">\n",
       "  <thead>\n",
       "    <tr style=\"text-align: right;\">\n",
       "      <th></th>\n",
       "      <th>Quote</th>\n",
       "      <th>Character</th>\n",
       "      <th>Anime</th>\n",
       "    </tr>\n",
       "  </thead>\n",
       "  <tbody>\n",
       "    <tr>\n",
       "      <th>0</th>\n",
       "      <td>People’s lives don’t end when they die, it ends when they lose faith.</td>\n",
       "      <td>Itachi Uchiha</td>\n",
       "      <td>Naruto</td>\n",
       "    </tr>\n",
       "    <tr>\n",
       "      <th>1</th>\n",
       "      <td>If you don’t take risks, you can’t create a future!</td>\n",
       "      <td>Monkey D Luffy</td>\n",
       "      <td>One Piece</td>\n",
       "    </tr>\n",
       "    <tr>\n",
       "      <th>2</th>\n",
       "      <td>If you don’t like your destiny, don’t accept it.</td>\n",
       "      <td>Naruto Uzumaki</td>\n",
       "      <td>Naruto</td>\n",
       "    </tr>\n",
       "    <tr>\n",
       "      <th>3</th>\n",
       "      <td>When you give up, that’s when the game ends.</td>\n",
       "      <td>Mitsuyoshi Anzai</td>\n",
       "      <td>Slam Dunk</td>\n",
       "    </tr>\n",
       "    <tr>\n",
       "      <th>4</th>\n",
       "      <td>All we can do is live until the day we die. Control what we can…and fly free.</td>\n",
       "      <td>Deneil Young</td>\n",
       "      <td>Uchuu Kyoudai or Space Brothers</td>\n",
       "    </tr>\n",
       "  </tbody>\n",
       "</table>\n",
       "</div>"
      ],
      "text/plain": [
       "                                                                           Quote  \\\n",
       "0          People’s lives don’t end when they die, it ends when they lose faith.   \n",
       "1                            If you don’t take risks, you can’t create a future!   \n",
       "2                               If you don’t like your destiny, don’t accept it.   \n",
       "3                                   When you give up, that’s when the game ends.   \n",
       "4  All we can do is live until the day we die. Control what we can…and fly free.   \n",
       "\n",
       "          Character                            Anime  \n",
       "0     Itachi Uchiha                           Naruto  \n",
       "1    Monkey D Luffy                        One Piece  \n",
       "2    Naruto Uzumaki                           Naruto  \n",
       "3  Mitsuyoshi Anzai                        Slam Dunk  \n",
       "4      Deneil Young  Uchuu Kyoudai or Space Brothers  "
      ]
     },
     "execution_count": 1,
     "metadata": {},
     "output_type": "execute_result"
    }
   ],
   "source": [
    "# import pandas module under alias pd\n",
    "import pandas as pd\n",
    "pd.set_option('max_colwidth',150)\n",
    "\n",
    "# data import using pandas module : data_df\n",
    "data_df = pd.read_csv('AnimeQuotes.csv')\n",
    "\n",
    "# see first 5 observations\n",
    "data_df.head()"
   ]
  },
  {
   "cell_type": "markdown",
   "metadata": {},
   "source": [
    "## Cleaning The Data"
   ]
  },
  {
   "cell_type": "markdown",
   "metadata": {},
   "source": [
    "First, we will merge individual quotes for each character so we can make analysis on each character."
   ]
  },
  {
   "cell_type": "code",
   "execution_count": 2,
   "metadata": {},
   "outputs": [
    {
     "data": {
      "text/html": [
       "<div>\n",
       "<style scoped>\n",
       "    .dataframe tbody tr th:only-of-type {\n",
       "        vertical-align: middle;\n",
       "    }\n",
       "\n",
       "    .dataframe tbody tr th {\n",
       "        vertical-align: top;\n",
       "    }\n",
       "\n",
       "    .dataframe thead th {\n",
       "        text-align: right;\n",
       "    }\n",
       "</style>\n",
       "<table border=\"1\" class=\"dataframe\">\n",
       "  <thead>\n",
       "    <tr style=\"text-align: right;\">\n",
       "      <th></th>\n",
       "      <th>Anime</th>\n",
       "      <th>Quotes</th>\n",
       "    </tr>\n",
       "    <tr>\n",
       "      <th>Character</th>\n",
       "      <th></th>\n",
       "      <th></th>\n",
       "    </tr>\n",
       "  </thead>\n",
       "  <tbody>\n",
       "    <tr>\n",
       "      <th>Itachi Uchiha</th>\n",
       "      <td>Naruto</td>\n",
       "      <td>People’s lives don’t end when they die, it ends when they lose faith.</td>\n",
       "    </tr>\n",
       "    <tr>\n",
       "      <th>Monkey D Luffy</th>\n",
       "      <td>One Piece</td>\n",
       "      <td>If you don’t take risks, you can’t create a future! Forgetting is like a wound. The wound may heal, but it has already left a scar. Being lonely i...</td>\n",
       "    </tr>\n",
       "    <tr>\n",
       "      <th>Naruto Uzumaki</th>\n",
       "      <td>Naruto</td>\n",
       "      <td>If you don’t like your destiny, don’t accept it. Hard work is worthless for those that don’t believe in themselves. If you don’t like your destiny...</td>\n",
       "    </tr>\n",
       "    <tr>\n",
       "      <th>Mitsuyoshi Anzai</th>\n",
       "      <td>Slam Dunk</td>\n",
       "      <td>When you give up, that’s when the game ends.</td>\n",
       "    </tr>\n",
       "    <tr>\n",
       "      <th>Deneil Young</th>\n",
       "      <td>Uchuu Kyoudai or Space Brothers</td>\n",
       "      <td>All we can do is live until the day we die. Control what we can…and fly free.</td>\n",
       "    </tr>\n",
       "  </tbody>\n",
       "</table>\n",
       "</div>"
      ],
      "text/plain": [
       "                                            Anime  \\\n",
       "Character                                           \n",
       "Itachi Uchiha                              Naruto   \n",
       "Monkey D Luffy                          One Piece   \n",
       "Naruto Uzumaki                             Naruto   \n",
       "Mitsuyoshi Anzai                        Slam Dunk   \n",
       "Deneil Young      Uchuu Kyoudai or Space Brothers   \n",
       "\n",
       "                                                                                                                                                                 Quotes  \n",
       "Character                                                                                                                                                                \n",
       "Itachi Uchiha                                                                                     People’s lives don’t end when they die, it ends when they lose faith.  \n",
       "Monkey D Luffy    If you don’t take risks, you can’t create a future! Forgetting is like a wound. The wound may heal, but it has already left a scar. Being lonely i...  \n",
       "Naruto Uzumaki    If you don’t like your destiny, don’t accept it. Hard work is worthless for those that don’t believe in themselves. If you don’t like your destiny...  \n",
       "Mitsuyoshi Anzai                                                                                                           When you give up, that’s when the game ends.  \n",
       "Deneil Young                                                                              All we can do is live until the day we die. Control what we can…and fly free.  "
      ]
     },
     "execution_count": 2,
     "metadata": {},
     "output_type": "execute_result"
    }
   ],
   "source": [
    "# Find the merged name data set and rename the 'Name' column\n",
    "quotes = data_df.groupby(['Character'])['Quote'].apply(' '.join).reset_index().rename(columns={'Quote':'Quotes'})\n",
    "\n",
    "# Join it to the original dataset\n",
    "data = data_df.merge(quotes, on='Character')\n",
    "\n",
    "# Drop the 'Name' column then drop duplicates.\n",
    "data = data.drop(columns=['Quote']).drop_duplicates()\n",
    "\n",
    "# Set character name as our dataeset index\n",
    "data = data.set_index('Character')\n",
    "\n",
    "# See the first 5 observations\n",
    "data.head()"
   ]
  },
  {
   "cell_type": "code",
   "execution_count": 3,
   "metadata": {},
   "outputs": [
    {
     "data": {
      "text/plain": [
       "'If you don’t like your destiny, don’t accept it. Hard work is worthless for those that don’t believe in themselves. If you don’t like your destiny, don’t accept it. Instead, have the courage to change it the way you want it to be.'"
      ]
     },
     "execution_count": 3,
     "metadata": {},
     "output_type": "execute_result"
    }
   ],
   "source": [
    "# Let's take a look at the quotes for Naruto Uzumaki\n",
    "data.Quotes.loc['Naruto Uzumaki']"
   ]
  },
  {
   "cell_type": "markdown",
   "metadata": {},
   "source": [
    "**Common data cleaning steps on all text:**\n",
    "* Make text all lower case\n",
    "* Remove punctuation\n",
    "* Remove numerical values\n",
    "* Remove common non-sensical text (/n)\n",
    "* Tokenize text\n",
    "* Remove stop words\n",
    "\n",
    "**More data cleaning steps after tokenization:**\n",
    "* Stemming / lemmatization\n",
    "* Parts of speech tagging\n",
    "* Create bi-grams or tri-grams\n",
    "* Deal with typos\n",
    "* And more..."
   ]
  },
  {
   "cell_type": "code",
   "execution_count": 4,
   "metadata": {},
   "outputs": [],
   "source": [
    "# Apply a first round of text cleaning techniques\n",
    "import re\n",
    "import string\n",
    "\n",
    "def clean_text_round1(text):\n",
    "    '''Make text lowercase, remove punctuation and remove words containing numbers.'''\n",
    "    text = text.lower()\n",
    "    text = re.sub('[%s]' % re.escape(string.punctuation), '', text)\n",
    "    text = re.sub('\\w*\\d\\w*', '', text)\n",
    "    return text\n",
    "\n",
    "round1 = lambda x: clean_text_round1(x)"
   ]
  },
  {
   "cell_type": "code",
   "execution_count": 5,
   "metadata": {},
   "outputs": [
    {
     "data": {
      "text/html": [
       "<div>\n",
       "<style scoped>\n",
       "    .dataframe tbody tr th:only-of-type {\n",
       "        vertical-align: middle;\n",
       "    }\n",
       "\n",
       "    .dataframe tbody tr th {\n",
       "        vertical-align: top;\n",
       "    }\n",
       "\n",
       "    .dataframe thead th {\n",
       "        text-align: right;\n",
       "    }\n",
       "</style>\n",
       "<table border=\"1\" class=\"dataframe\">\n",
       "  <thead>\n",
       "    <tr style=\"text-align: right;\">\n",
       "      <th></th>\n",
       "      <th>Quotes</th>\n",
       "    </tr>\n",
       "    <tr>\n",
       "      <th>Character</th>\n",
       "      <th></th>\n",
       "    </tr>\n",
       "  </thead>\n",
       "  <tbody>\n",
       "    <tr>\n",
       "      <th>Itachi Uchiha</th>\n",
       "      <td>people’s lives don’t end when they die it ends when they lose faith</td>\n",
       "    </tr>\n",
       "    <tr>\n",
       "      <th>Monkey D Luffy</th>\n",
       "      <td>if you don’t take risks you can’t create a future forgetting is like a wound the wound may heal but it has already left a scar being lonely is mor...</td>\n",
       "    </tr>\n",
       "    <tr>\n",
       "      <th>Naruto Uzumaki</th>\n",
       "      <td>if you don’t like your destiny don’t accept it hard work is worthless for those that don’t believe in themselves if you don’t like your destiny do...</td>\n",
       "    </tr>\n",
       "    <tr>\n",
       "      <th>Mitsuyoshi Anzai</th>\n",
       "      <td>when you give up that’s when the game ends</td>\n",
       "    </tr>\n",
       "    <tr>\n",
       "      <th>Deneil Young</th>\n",
       "      <td>all we can do is live until the day we die control what we can…and fly free</td>\n",
       "    </tr>\n",
       "    <tr>\n",
       "      <th>...</th>\n",
       "      <td>...</td>\n",
       "    </tr>\n",
       "    <tr>\n",
       "      <th>Tobio Kageyama</th>\n",
       "      <td>being the best decoy ever is as cool as being the ace you can fly even higher if they adjust to me i have to adjust in turn whoever stops adjustin...</td>\n",
       "    </tr>\n",
       "    <tr>\n",
       "      <th>Yuu Nishinoya</th>\n",
       "      <td>life s a bore if you don t challenge yourself</td>\n",
       "    </tr>\n",
       "    <tr>\n",
       "      <th>Tanaka Saeko</th>\n",
       "      <td>there are some flowers you only see when you take detours</td>\n",
       "    </tr>\n",
       "    <tr>\n",
       "      <th>Ittetsu Takeda</th>\n",
       "      <td>being weak means that there is room to grow</td>\n",
       "    </tr>\n",
       "    <tr>\n",
       "      <th>Tooru Oikawa</th>\n",
       "      <td>today might be the chance to grasp the chance to let your talent bloom if you re gonna hit it hit it until it breaks</td>\n",
       "    </tr>\n",
       "  </tbody>\n",
       "</table>\n",
       "<p>99 rows × 1 columns</p>\n",
       "</div>"
      ],
      "text/plain": [
       "                                                                                                                                                                 Quotes\n",
       "Character                                                                                                                                                              \n",
       "Itachi Uchiha                                                                                       people’s lives don’t end when they die it ends when they lose faith\n",
       "Monkey D Luffy    if you don’t take risks you can’t create a future forgetting is like a wound the wound may heal but it has already left a scar being lonely is mor...\n",
       "Naruto Uzumaki    if you don’t like your destiny don’t accept it hard work is worthless for those that don’t believe in themselves if you don’t like your destiny do...\n",
       "Mitsuyoshi Anzai                                                                                                             when you give up that’s when the game ends\n",
       "Deneil Young                                                                                all we can do is live until the day we die control what we can…and fly free\n",
       "...                                                                                                                                                                 ...\n",
       "Tobio Kageyama    being the best decoy ever is as cool as being the ace you can fly even higher if they adjust to me i have to adjust in turn whoever stops adjustin...\n",
       "Yuu Nishinoya                                                                                                             life s a bore if you don t challenge yourself\n",
       "Tanaka Saeko                                                                                                  there are some flowers you only see when you take detours\n",
       "Ittetsu Takeda                                                                                                              being weak means that there is room to grow\n",
       "Tooru Oikawa                                       today might be the chance to grasp the chance to let your talent bloom if you re gonna hit it hit it until it breaks\n",
       "\n",
       "[99 rows x 1 columns]"
      ]
     },
     "execution_count": 5,
     "metadata": {},
     "output_type": "execute_result"
    }
   ],
   "source": [
    "# Let's take a look at the updated text\n",
    "data_clean = pd.DataFrame(data.Quotes.apply(round1))\n",
    "data_clean"
   ]
  },
  {
   "cell_type": "markdown",
   "metadata": {},
   "source": [
    "Note, that we don't need Anime Name the character belongs to right now. So, we are fine dropping 'Anime' column."
   ]
  },
  {
   "cell_type": "code",
   "execution_count": 6,
   "metadata": {},
   "outputs": [],
   "source": [
    "# Apply a second round of cleaning\n",
    "def clean_text_round2(text):\n",
    "    '''Get rid of some additional punctuation and non-sensical text that was missed the first time around.'''\n",
    "    text = re.sub('[‘’“”…]', '', text)\n",
    "    text = re.sub('\\n', '', text)\n",
    "    return text\n",
    "\n",
    "round2 = lambda x: clean_text_round2(x)"
   ]
  },
  {
   "cell_type": "code",
   "execution_count": 7,
   "metadata": {},
   "outputs": [
    {
     "data": {
      "text/html": [
       "<div>\n",
       "<style scoped>\n",
       "    .dataframe tbody tr th:only-of-type {\n",
       "        vertical-align: middle;\n",
       "    }\n",
       "\n",
       "    .dataframe tbody tr th {\n",
       "        vertical-align: top;\n",
       "    }\n",
       "\n",
       "    .dataframe thead th {\n",
       "        text-align: right;\n",
       "    }\n",
       "</style>\n",
       "<table border=\"1\" class=\"dataframe\">\n",
       "  <thead>\n",
       "    <tr style=\"text-align: right;\">\n",
       "      <th></th>\n",
       "      <th>Quotes</th>\n",
       "    </tr>\n",
       "    <tr>\n",
       "      <th>Character</th>\n",
       "      <th></th>\n",
       "    </tr>\n",
       "  </thead>\n",
       "  <tbody>\n",
       "    <tr>\n",
       "      <th>Itachi Uchiha</th>\n",
       "      <td>peoples lives dont end when they die it ends when they lose faith</td>\n",
       "    </tr>\n",
       "    <tr>\n",
       "      <th>Monkey D Luffy</th>\n",
       "      <td>if you dont take risks you cant create a future forgetting is like a wound the wound may heal but it has already left a scar being lonely is more ...</td>\n",
       "    </tr>\n",
       "    <tr>\n",
       "      <th>Naruto Uzumaki</th>\n",
       "      <td>if you dont like your destiny dont accept it hard work is worthless for those that dont believe in themselves if you dont like your destiny dont a...</td>\n",
       "    </tr>\n",
       "    <tr>\n",
       "      <th>Mitsuyoshi Anzai</th>\n",
       "      <td>when you give up thats when the game ends</td>\n",
       "    </tr>\n",
       "    <tr>\n",
       "      <th>Deneil Young</th>\n",
       "      <td>all we can do is live until the day we die control what we canand fly free</td>\n",
       "    </tr>\n",
       "    <tr>\n",
       "      <th>...</th>\n",
       "      <td>...</td>\n",
       "    </tr>\n",
       "    <tr>\n",
       "      <th>Tobio Kageyama</th>\n",
       "      <td>being the best decoy ever is as cool as being the ace you can fly even higher if they adjust to me i have to adjust in turn whoever stops adjustin...</td>\n",
       "    </tr>\n",
       "    <tr>\n",
       "      <th>Yuu Nishinoya</th>\n",
       "      <td>life s a bore if you don t challenge yourself</td>\n",
       "    </tr>\n",
       "    <tr>\n",
       "      <th>Tanaka Saeko</th>\n",
       "      <td>there are some flowers you only see when you take detours</td>\n",
       "    </tr>\n",
       "    <tr>\n",
       "      <th>Ittetsu Takeda</th>\n",
       "      <td>being weak means that there is room to grow</td>\n",
       "    </tr>\n",
       "    <tr>\n",
       "      <th>Tooru Oikawa</th>\n",
       "      <td>today might be the chance to grasp the chance to let your talent bloom if you re gonna hit it hit it until it breaks</td>\n",
       "    </tr>\n",
       "  </tbody>\n",
       "</table>\n",
       "<p>99 rows × 1 columns</p>\n",
       "</div>"
      ],
      "text/plain": [
       "                                                                                                                                                                 Quotes\n",
       "Character                                                                                                                                                              \n",
       "Itachi Uchiha                                                                                         peoples lives dont end when they die it ends when they lose faith\n",
       "Monkey D Luffy    if you dont take risks you cant create a future forgetting is like a wound the wound may heal but it has already left a scar being lonely is more ...\n",
       "Naruto Uzumaki    if you dont like your destiny dont accept it hard work is worthless for those that dont believe in themselves if you dont like your destiny dont a...\n",
       "Mitsuyoshi Anzai                                                                                                              when you give up thats when the game ends\n",
       "Deneil Young                                                                                 all we can do is live until the day we die control what we canand fly free\n",
       "...                                                                                                                                                                 ...\n",
       "Tobio Kageyama    being the best decoy ever is as cool as being the ace you can fly even higher if they adjust to me i have to adjust in turn whoever stops adjustin...\n",
       "Yuu Nishinoya                                                                                                             life s a bore if you don t challenge yourself\n",
       "Tanaka Saeko                                                                                                  there are some flowers you only see when you take detours\n",
       "Ittetsu Takeda                                                                                                              being weak means that there is room to grow\n",
       "Tooru Oikawa                                       today might be the chance to grasp the chance to let your talent bloom if you re gonna hit it hit it until it breaks\n",
       "\n",
       "[99 rows x 1 columns]"
      ]
     },
     "execution_count": 7,
     "metadata": {},
     "output_type": "execute_result"
    }
   ],
   "source": [
    "# Let's take a look at the updated text\n",
    "data_clean = pd.DataFrame(data_clean.Quotes.apply(round2))\n",
    "data_clean"
   ]
  },
  {
   "cell_type": "markdown",
   "metadata": {},
   "source": [
    "**NOTE:** This data cleaning aka text pre-processing step could go on for a while, but we are going to stop for now. After going through some analysis techniques, if we see that the results don't make sense or could be improved, we can come back and make more edits."
   ]
  },
  {
   "cell_type": "markdown",
   "metadata": {},
   "source": [
    "## Organizing The Data"
   ]
  },
  {
   "cell_type": "markdown",
   "metadata": {},
   "source": [
    "I mentioned earlier that the output of this notebook will be clean, organized data in standard text format: **Corpus** (a collection of text). We already created a corpus in an earlier step."
   ]
  },
  {
   "cell_type": "code",
   "execution_count": 8,
   "metadata": {},
   "outputs": [
    {
     "data": {
      "text/html": [
       "<div>\n",
       "<style scoped>\n",
       "    .dataframe tbody tr th:only-of-type {\n",
       "        vertical-align: middle;\n",
       "    }\n",
       "\n",
       "    .dataframe tbody tr th {\n",
       "        vertical-align: top;\n",
       "    }\n",
       "\n",
       "    .dataframe thead th {\n",
       "        text-align: right;\n",
       "    }\n",
       "</style>\n",
       "<table border=\"1\" class=\"dataframe\">\n",
       "  <thead>\n",
       "    <tr style=\"text-align: right;\">\n",
       "      <th></th>\n",
       "      <th>Quote</th>\n",
       "      <th>Character</th>\n",
       "      <th>Anime</th>\n",
       "    </tr>\n",
       "  </thead>\n",
       "  <tbody>\n",
       "    <tr>\n",
       "      <th>0</th>\n",
       "      <td>People’s lives don’t end when they die, it ends when they lose faith.</td>\n",
       "      <td>Itachi Uchiha</td>\n",
       "      <td>Naruto</td>\n",
       "    </tr>\n",
       "    <tr>\n",
       "      <th>1</th>\n",
       "      <td>If you don’t take risks, you can’t create a future!</td>\n",
       "      <td>Monkey D Luffy</td>\n",
       "      <td>One Piece</td>\n",
       "    </tr>\n",
       "    <tr>\n",
       "      <th>2</th>\n",
       "      <td>If you don’t like your destiny, don’t accept it.</td>\n",
       "      <td>Naruto Uzumaki</td>\n",
       "      <td>Naruto</td>\n",
       "    </tr>\n",
       "    <tr>\n",
       "      <th>3</th>\n",
       "      <td>When you give up, that’s when the game ends.</td>\n",
       "      <td>Mitsuyoshi Anzai</td>\n",
       "      <td>Slam Dunk</td>\n",
       "    </tr>\n",
       "    <tr>\n",
       "      <th>4</th>\n",
       "      <td>All we can do is live until the day we die. Control what we can…and fly free.</td>\n",
       "      <td>Deneil Young</td>\n",
       "      <td>Uchuu Kyoudai or Space Brothers</td>\n",
       "    </tr>\n",
       "    <tr>\n",
       "      <th>...</th>\n",
       "      <td>...</td>\n",
       "      <td>...</td>\n",
       "      <td>...</td>\n",
       "    </tr>\n",
       "    <tr>\n",
       "      <th>116</th>\n",
       "      <td>Life s a bore if you don t challenge yourself</td>\n",
       "      <td>Yuu Nishinoya</td>\n",
       "      <td>Haikyuu</td>\n",
       "    </tr>\n",
       "    <tr>\n",
       "      <th>117</th>\n",
       "      <td>There are some flowers you only see when you take detours</td>\n",
       "      <td>Tanaka Saeko</td>\n",
       "      <td>Haikyuu</td>\n",
       "    </tr>\n",
       "    <tr>\n",
       "      <th>118</th>\n",
       "      <td>Being weak means that there is room to grow</td>\n",
       "      <td>Ittetsu Takeda</td>\n",
       "      <td>Haikyuu</td>\n",
       "    </tr>\n",
       "    <tr>\n",
       "      <th>119</th>\n",
       "      <td>Today might be the chance to grasp the chance to let your talent bloom</td>\n",
       "      <td>Tooru Oikawa</td>\n",
       "      <td>Haikyuu</td>\n",
       "    </tr>\n",
       "    <tr>\n",
       "      <th>120</th>\n",
       "      <td>If you re gonna hit it hit it until it breaks</td>\n",
       "      <td>Tooru Oikawa</td>\n",
       "      <td>Haikyuu</td>\n",
       "    </tr>\n",
       "  </tbody>\n",
       "</table>\n",
       "<p>121 rows × 3 columns</p>\n",
       "</div>"
      ],
      "text/plain": [
       "                                                                             Quote  \\\n",
       "0            People’s lives don’t end when they die, it ends when they lose faith.   \n",
       "1                              If you don’t take risks, you can’t create a future!   \n",
       "2                                 If you don’t like your destiny, don’t accept it.   \n",
       "3                                     When you give up, that’s when the game ends.   \n",
       "4    All we can do is live until the day we die. Control what we can…and fly free.   \n",
       "..                                                                             ...   \n",
       "116                                  Life s a bore if you don t challenge yourself   \n",
       "117                      There are some flowers you only see when you take detours   \n",
       "118                                    Being weak means that there is room to grow   \n",
       "119         Today might be the chance to grasp the chance to let your talent bloom   \n",
       "120                                  If you re gonna hit it hit it until it breaks   \n",
       "\n",
       "            Character                            Anime  \n",
       "0       Itachi Uchiha                           Naruto  \n",
       "1      Monkey D Luffy                        One Piece  \n",
       "2      Naruto Uzumaki                           Naruto  \n",
       "3    Mitsuyoshi Anzai                        Slam Dunk  \n",
       "4        Deneil Young  Uchuu Kyoudai or Space Brothers  \n",
       "..                ...                              ...  \n",
       "116     Yuu Nishinoya                          Haikyuu  \n",
       "117      Tanaka Saeko                          Haikyuu  \n",
       "118    Ittetsu Takeda                          Haikyuu  \n",
       "119      Tooru Oikawa                          Haikyuu  \n",
       "120      Tooru Oikawa                          Haikyuu  \n",
       "\n",
       "[121 rows x 3 columns]"
      ]
     },
     "execution_count": 8,
     "metadata": {},
     "output_type": "execute_result"
    }
   ],
   "source": [
    "# Let's take a look at our original dataframe\n",
    "data_df"
   ]
  },
  {
   "cell_type": "code",
   "execution_count": 9,
   "metadata": {},
   "outputs": [],
   "source": [
    "# Let's pickle it for later use\n",
    "data_df.to_pickle(\"corpus.pkl\")\n",
    "\n",
    "# Let's also pickle the cleaned data\n",
    "data_clean.to_pickle('data_clean.pkl')"
   ]
  }
 ],
 "metadata": {
  "kernelspec": {
   "display_name": "Python 3",
   "language": "python",
   "name": "python3"
  },
  "language_info": {
   "codemirror_mode": {
    "name": "ipython",
    "version": 3
   },
   "file_extension": ".py",
   "mimetype": "text/x-python",
   "name": "python",
   "nbconvert_exporter": "python",
   "pygments_lexer": "ipython3",
   "version": "3.6.13"
  },
  "toc": {
   "nav_menu": {},
   "number_sections": true,
   "sideBar": true,
   "skip_h1_title": false,
   "toc_cell": false,
   "toc_position": {},
   "toc_section_display": "block",
   "toc_window_display": false
  },
  "varInspector": {
   "cols": {
    "lenName": 16,
    "lenType": 16,
    "lenVar": 40
   },
   "kernels_config": {
    "python": {
     "delete_cmd_postfix": "",
     "delete_cmd_prefix": "del ",
     "library": "var_list.py",
     "varRefreshCmd": "print(var_dic_list())"
    },
    "r": {
     "delete_cmd_postfix": ") ",
     "delete_cmd_prefix": "rm(",
     "library": "var_list.r",
     "varRefreshCmd": "cat(var_dic_list()) "
    }
   },
   "types_to_exclude": [
    "module",
    "function",
    "builtin_function_or_method",
    "instance",
    "_Feature"
   ],
   "window_display": false
  }
 },
 "nbformat": 4,
 "nbformat_minor": 2
}
